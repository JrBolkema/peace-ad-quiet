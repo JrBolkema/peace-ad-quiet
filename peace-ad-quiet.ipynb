{
 "cells": [
  {
   "cell_type": "code",
   "execution_count": 118,
   "id": "a52e95d4",
   "metadata": {},
   "outputs": [],
   "source": [
    "import soundcard as sc\n",
    "import time\n",
    "import numpy as np\n",
    "from scipy.io.wavfile import write"
   ]
  },
  {
   "cell_type": "code",
   "execution_count": 119,
   "id": "30cbb852",
   "metadata": {},
   "outputs": [],
   "source": [
    "# get a list of all speakers:\n",
    "speakers = sc.all_speakers()\n",
    "# get the current default speaker on your system:\n",
    "default_speaker = sc.default_speaker()\n",
    "rate = 44100  # Record at 44100 samples per second\n",
    "timestr = time.strftime(\"%Y%m%d_%H%M%S\")\n",
    "filename = f\"output{timestr}.wav\"\n",
    "p = pyaudio.PyAudio() \n"
   ]
  },
  {
   "cell_type": "code",
   "execution_count": 120,
   "id": "6c4df068",
   "metadata": {},
   "outputs": [],
   "source": [
    "# get a list of all microphones:v\n",
    "mics = sc.all_microphones(include_loopback=True)\n",
    "# get the current default microphone on your system:\n",
    "default_mic = mics[0]"
   ]
  },
  {
   "cell_type": "code",
   "execution_count": 121,
   "id": "f99708dc",
   "metadata": {},
   "outputs": [
    {
     "name": "stdout",
     "output_type": "stream",
     "text": [
      "0: Speakers (USBAUDIO2.0)\n",
      "1: Realtek Digital Output (Realtek High Definition Audio)\n",
      "2: Stereo Mix (Realtek High Definition Audio)\n"
     ]
    }
   ],
   "source": [
    "for i in range(len(mics)):\n",
    "    try:\n",
    "        print(f\"{i}: {mics[i].name}\")\n",
    "    except Exception as e:\n",
    "        print(e)"
   ]
  },
  {
   "cell_type": "code",
   "execution_count": 122,
   "id": "37eb8b79",
   "metadata": {},
   "outputs": [
    {
     "name": "stdout",
     "output_type": "stream",
     "text": [
      "Recording...\n",
      "Done...Stop your sound so you can hear playback\n"
     ]
    }
   ],
   "source": [
    "with default_mic.recorder(samplerate=44100) as mic, \\\n",
    "            default_speaker.player(samplerate=44100) as sp:\n",
    "    print(\"Recording...\")\n",
    "    data = mic.record(numframes=144000)\n",
    "    print(\"Done...Stop your sound so you can hear playback\")\n",
    "    time.sleep(1)\n",
    "    sp.play(data)"
   ]
  },
  {
   "cell_type": "code",
   "execution_count": 123,
   "id": "d6b821f4",
   "metadata": {},
   "outputs": [],
   "source": [
    "scaled = np.int16(data / np.max(np.abs(data)) * 32767) \n",
    "write(filename, rate, scaled)"
   ]
  },
  {
   "cell_type": "code",
   "execution_count": 124,
   "id": "2e2565a4",
   "metadata": {},
   "outputs": [
    {
     "name": "stdout",
     "output_type": "stream",
     "text": [
      "File Saved!\n"
     ]
    }
   ],
   "source": [
    "print(\"File Saved!\")"
   ]
  }
 ],
 "metadata": {
  "kernelspec": {
   "display_name": "Python 3 (ipykernel)",
   "language": "python",
   "name": "python3"
  },
  "language_info": {
   "codemirror_mode": {
    "name": "ipython",
    "version": 3
   },
   "file_extension": ".py",
   "mimetype": "text/x-python",
   "name": "python",
   "nbconvert_exporter": "python",
   "pygments_lexer": "ipython3",
   "version": "3.10.9"
  }
 },
 "nbformat": 4,
 "nbformat_minor": 5
}
